{
 "cells": [
  {
   "cell_type": "code",
   "execution_count": 18,
   "metadata": {},
   "outputs": [],
   "source": [
    "from selenium import webdriver\n",
    "import time\n",
    "from bs4 import BeautifulSoup"
   ]
  },
  {
   "cell_type": "code",
   "execution_count": 20,
   "metadata": {},
   "outputs": [
    {
     "name": "stdout",
     "output_type": "stream",
     "text": [
      "파일 저장 완료\n"
     ]
    }
   ],
   "source": [
    "for i in range(2020,2024):\n",
    "  url = f\"https://search.daum.net/search?w=tot&q={i}%EB%85%84%EC%98%81%ED%99%94%EC%88%9C%EC%9C%84&DA=MOR&rtmaxcoll=MOR\"\n",
    "  browser = webdriver.Chrome()\n",
    "  # 이동하려는 주소 입력\n",
    "  browser.get(url)\n",
    "  time.sleep(3)\n",
    "  soup = BeautifulSoup(browser.page_source,\"lxml\")\n",
    "  # 파일 저장하기\n",
    "  with open(f'screen{i}.html', 'w', encoding='utf-8') as f:\n",
    "      f.write(soup.prettify())\n",
    "      \n",
    "print('파일 저장 완료')"
   ]
  },
  {
   "cell_type": "code",
   "execution_count": 21,
   "metadata": {},
   "outputs": [],
   "source": [
    "with open('screen2023.html','r',encoding='utf8') as f:\n",
    "  soup = BeautifulSoup(f,'lxml')"
   ]
  },
  {
   "cell_type": "code",
   "execution_count": 47,
   "metadata": {},
   "outputs": [
    {
     "name": "stdout",
     "output_type": "stream",
     "text": [
      "이미지:  https://search1.kakaocdn.net/thumb/R232x328.fwebp.q85/?fname=https%3A%2F%2Ft1.daumcdn.net%2Fmovie%2Ff47bdb7c3174e8bcf43fb6ab27283fc2f4d34555\n",
      "제목:  서울의 봄\n",
      "관객수:  1312 만 명\n",
      "날짜:  2023.11.22.\n",
      "이미지:  https://search1.kakaocdn.net/thumb/R232x328.fwebp.q85/?fname=https%3A%2F%2Ft1.daumcdn.net%2Fmovie%2Fb05fec37909f3c46d8ada73ba1d2bc2f8868e869\n",
      "제목:  범죄도시3\n",
      "관객수:  1068 만 명\n",
      "날짜:  2023.05.31.\n",
      "이미지:  https://search1.kakaocdn.net/thumb/R232x328.fwebp.q85/?fname=https%3A%2F%2Ft1.daumcdn.net%2Fmovie%2Fe4ce2c6ae33edb0ef32d5614b367f85c10a7316c\n",
      "제목:  엘리멘탈\n",
      "관객수:  724 만 명\n",
      "날짜:  2023.06.14.\n",
      "이미지:  https://search1.kakaocdn.net/thumb/R232x328.fwebp.q85/?fname=https%3A%2F%2Ft1.daumcdn.net%2Fmovie%2F3a684ccaeb7aeac8e3f060ffe7249f7fe039443a\n",
      "제목:  스즈메의 문단속\n",
      "관객수:  557 만 명\n",
      "날짜:  2024.01.10.\n",
      "이미지:  https://search1.kakaocdn.net/thumb/R232x328.fwebp.q85/?fname=https%3A%2F%2Ft1.daumcdn.net%2Fmovie%2F51a727081fdf0a5774f9e360f3ae3f15c85bc61d\n",
      "제목:  밀수\n",
      "관객수:  514 만 명\n",
      "날짜:  2023.07.26.\n",
      "이미지:  https://search1.kakaocdn.net/thumb/R232x328.fwebp.q85/?fname=https%3A%2F%2Ft1.daumcdn.net%2Fmovie%2Fc370bb777da34359f244bed791ca2fa2f6e42298\n",
      "제목:  더 퍼스트 슬램덩크\n",
      "관객수:  488 만 명\n",
      "날짜:  2023.01.04.\n",
      "이미지:  https://search1.kakaocdn.net/thumb/R232x328.fwebp.q85/?fname=https%3A%2F%2Ft1.daumcdn.net%2Fmovie%2F6b0eb68a4c944965ae78c83112bbb799c25b876b\n",
      "제목:  가디언즈 오브 갤럭시: Volume 3\n",
      "관객수:  420 만 명\n",
      "날짜:  2023.05.03.\n",
      "이미지:  https://search1.kakaocdn.net/thumb/R232x328.fwebp.q85/?fname=https%3A%2F%2Ft1.daumcdn.net%2Fmovie%2Fb65c5c7161099ca353e93f1e48115c7ef05dcaa8\n",
      "제목:  미션 임파서블: 데드 레코닝 PART ONE\n",
      "관객수:  402 만 명\n",
      "날짜:  2023.07.12.\n",
      "이미지:  https://search1.kakaocdn.net/thumb/R232x328.fwebp.q85/?fname=https%3A%2F%2Ft1.daumcdn.net%2Fmovie%2Fce3dda655bc0eb73ffd6e82ba32e1bc6322b173a\n",
      "제목:  콘크리트 유토피아\n",
      "관객수:  384 만 명\n",
      "날짜:  2023.08.09.\n",
      "이미지:  https://search1.kakaocdn.net/thumb/R232x328.fwebp.q85/?fname=https%3A%2F%2Ft1.daumcdn.net%2Fmovie%2F0cdb0abb3d8da8c6332bf6a945a86f9a32f67abd\n",
      "제목:  아바타: 물의 길\n",
      "관객수:  1080 만 명\n",
      "날짜:  2022.12.14.\n"
     ]
    }
   ],
   "source": [
    "data = soup.select_one(\"#mor_history_id_0 > div > div.flipsnap_view > div > div:nth-child(1) > c-flicking-item > c-layout > div > c-list-doc > ul\")\n",
    "\n",
    "images = data.select(\".wrap_thumb > a > img\")\n",
    "\n",
    "titles = data.select(\"strong>a\")\n",
    "\n",
    "counts = data.select(\"c-contents-desc > p > a\")\n",
    "\n",
    "dates = data.select(\"c-contents-desc-sub > span\")\n",
    "\n",
    "for i in range(len(titles)):\n",
    "  print('이미지: ',images[i]['src'])\n",
    "  # print(images[i]['src'])\n",
    "  print('제목: ',titles[i].text.strip())\n",
    "  # print(titles[i].text.strip())\n",
    "  print('관객수: ',int(counts[i].text.strip()[2:-2].replace(',', '').replace(' ', '')*1), '만 명')\n",
    "  # print(int(counts[i].text.strip()[2:-2].replace(',', '').replace(' ', '') + '0000'*1))\n",
    "  print('날짜: ',dates[i].text.strip())\n",
    "  # print(dates[i].text.strip())"
   ]
  }
 ],
 "metadata": {
  "kernelspec": {
   "display_name": "Python 3",
   "language": "python",
   "name": "python3"
  },
  "language_info": {
   "codemirror_mode": {
    "name": "ipython",
    "version": 3
   },
   "file_extension": ".py",
   "mimetype": "text/x-python",
   "name": "python",
   "nbconvert_exporter": "python",
   "pygments_lexer": "ipython3",
   "version": "3.12.6"
  }
 },
 "nbformat": 4,
 "nbformat_minor": 2
}
