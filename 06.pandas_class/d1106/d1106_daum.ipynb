{
 "cells": [
  {
   "cell_type": "code",
   "execution_count": 15,
   "metadata": {},
   "outputs": [],
   "source": [
    "import pandas as pd"
   ]
  },
  {
   "cell_type": "markdown",
   "metadata": {},
   "source": [
    "관객수\n",
    "-> 최대값\n",
    "-> 최소값\n",
    "-> 평균\n",
    "-> 최대관객수 5개\n",
    "-> 최소관객수 5개를 출력하시오."
   ]
  },
  {
   "cell_type": "code",
   "execution_count": 16,
   "metadata": {},
   "outputs": [
    {
     "data": {
      "text/html": [
       "<div>\n",
       "<style scoped>\n",
       "    .dataframe tbody tr th:only-of-type {\n",
       "        vertical-align: middle;\n",
       "    }\n",
       "\n",
       "    .dataframe tbody tr th {\n",
       "        vertical-align: top;\n",
       "    }\n",
       "\n",
       "    .dataframe thead th {\n",
       "        text-align: right;\n",
       "    }\n",
       "</style>\n",
       "<table border=\"1\" class=\"dataframe\">\n",
       "  <thead>\n",
       "    <tr style=\"text-align: right;\">\n",
       "      <th></th>\n",
       "      <th>제목</th>\n",
       "      <th>관객수</th>\n",
       "      <th>날짜</th>\n",
       "    </tr>\n",
       "  </thead>\n",
       "  <tbody>\n",
       "    <tr>\n",
       "      <th>0</th>\n",
       "      <td>서울의 봄</td>\n",
       "      <td>13120000</td>\n",
       "      <td>2023.11.22.</td>\n",
       "    </tr>\n",
       "    <tr>\n",
       "      <th>1</th>\n",
       "      <td>범죄도시3</td>\n",
       "      <td>10680000</td>\n",
       "      <td>2023.05.31.</td>\n",
       "    </tr>\n",
       "    <tr>\n",
       "      <th>2</th>\n",
       "      <td>엘리멘탈</td>\n",
       "      <td>7240000</td>\n",
       "      <td>2023.06.14.</td>\n",
       "    </tr>\n",
       "    <tr>\n",
       "      <th>3</th>\n",
       "      <td>스즈메의 문단속</td>\n",
       "      <td>5570000</td>\n",
       "      <td>2024.01.10.</td>\n",
       "    </tr>\n",
       "    <tr>\n",
       "      <th>4</th>\n",
       "      <td>밀수</td>\n",
       "      <td>5140000</td>\n",
       "      <td>2023.07.26.</td>\n",
       "    </tr>\n",
       "    <tr>\n",
       "      <th>5</th>\n",
       "      <td>더 퍼스트 슬램덩크</td>\n",
       "      <td>4880000</td>\n",
       "      <td>2023.01.04.</td>\n",
       "    </tr>\n",
       "    <tr>\n",
       "      <th>6</th>\n",
       "      <td>가디언즈 오브 갤럭시: Volume 3</td>\n",
       "      <td>4200000</td>\n",
       "      <td>2023.05.03.</td>\n",
       "    </tr>\n",
       "    <tr>\n",
       "      <th>7</th>\n",
       "      <td>미션 임파서블: 데드 레코닝 PART ONE</td>\n",
       "      <td>4020000</td>\n",
       "      <td>2023.07.12.</td>\n",
       "    </tr>\n",
       "    <tr>\n",
       "      <th>8</th>\n",
       "      <td>콘크리트 유토피아</td>\n",
       "      <td>3840000</td>\n",
       "      <td>2023.08.09.</td>\n",
       "    </tr>\n",
       "    <tr>\n",
       "      <th>9</th>\n",
       "      <td>아바타: 물의 길</td>\n",
       "      <td>10800000</td>\n",
       "      <td>2022.12.14.</td>\n",
       "    </tr>\n",
       "  </tbody>\n",
       "</table>\n",
       "</div>"
      ],
      "text/plain": [
       "                         제목       관객수           날짜\n",
       "0                     서울의 봄  13120000  2023.11.22.\n",
       "1                     범죄도시3  10680000  2023.05.31.\n",
       "2                      엘리멘탈   7240000  2023.06.14.\n",
       "3                  스즈메의 문단속   5570000  2024.01.10.\n",
       "4                        밀수   5140000  2023.07.26.\n",
       "5                더 퍼스트 슬램덩크   4880000  2023.01.04.\n",
       "6     가디언즈 오브 갤럭시: Volume 3   4200000  2023.05.03.\n",
       "7  미션 임파서블: 데드 레코닝 PART ONE   4020000  2023.07.12.\n",
       "8                 콘크리트 유토피아   3840000  2023.08.09.\n",
       "9                 아바타: 물의 길  10800000  2022.12.14."
      ]
     },
     "execution_count": 16,
     "metadata": {},
     "output_type": "execute_result"
    }
   ],
   "source": [
    "df = pd.read_csv('movies.csv')\n",
    "df"
   ]
  },
  {
   "cell_type": "code",
   "execution_count": null,
   "metadata": {},
   "outputs": [
    {
     "data": {
      "text/plain": [
       "np.float64(6949000.0)"
      ]
     },
     "execution_count": 20,
     "metadata": {},
     "output_type": "execute_result"
    }
   ],
   "source": [
    "df['관객수'].max()\n",
    "df['관객수'].min()\n",
    "df['관객수'].mean()\n",
    "\n",
    "df['관객수'].nlargest(5)\n",
    "df['관객수'].nsmallest(5)"
   ]
  },
  {
   "cell_type": "code",
   "execution_count": 21,
   "metadata": {},
   "outputs": [
    {
     "data": {
      "text/html": [
       "<div>\n",
       "<style scoped>\n",
       "    .dataframe tbody tr th:only-of-type {\n",
       "        vertical-align: middle;\n",
       "    }\n",
       "\n",
       "    .dataframe tbody tr th {\n",
       "        vertical-align: top;\n",
       "    }\n",
       "\n",
       "    .dataframe thead th {\n",
       "        text-align: right;\n",
       "    }\n",
       "</style>\n",
       "<table border=\"1\" class=\"dataframe\">\n",
       "  <thead>\n",
       "    <tr style=\"text-align: right;\">\n",
       "      <th></th>\n",
       "      <th>관객수</th>\n",
       "    </tr>\n",
       "  </thead>\n",
       "  <tbody>\n",
       "    <tr>\n",
       "      <th>count</th>\n",
       "      <td>1.000000e+01</td>\n",
       "    </tr>\n",
       "    <tr>\n",
       "      <th>mean</th>\n",
       "      <td>6.949000e+06</td>\n",
       "    </tr>\n",
       "    <tr>\n",
       "      <th>std</th>\n",
       "      <td>3.369360e+06</td>\n",
       "    </tr>\n",
       "    <tr>\n",
       "      <th>min</th>\n",
       "      <td>3.840000e+06</td>\n",
       "    </tr>\n",
       "    <tr>\n",
       "      <th>25%</th>\n",
       "      <td>4.370000e+06</td>\n",
       "    </tr>\n",
       "    <tr>\n",
       "      <th>50%</th>\n",
       "      <td>5.355000e+06</td>\n",
       "    </tr>\n",
       "    <tr>\n",
       "      <th>75%</th>\n",
       "      <td>9.820000e+06</td>\n",
       "    </tr>\n",
       "    <tr>\n",
       "      <th>max</th>\n",
       "      <td>1.312000e+07</td>\n",
       "    </tr>\n",
       "  </tbody>\n",
       "</table>\n",
       "</div>"
      ],
      "text/plain": [
       "                관객수\n",
       "count  1.000000e+01\n",
       "mean   6.949000e+06\n",
       "std    3.369360e+06\n",
       "min    3.840000e+06\n",
       "25%    4.370000e+06\n",
       "50%    5.355000e+06\n",
       "75%    9.820000e+06\n",
       "max    1.312000e+07"
      ]
     },
     "execution_count": 21,
     "metadata": {},
     "output_type": "execute_result"
    }
   ],
   "source": [
    "df.describe()"
   ]
  }
 ],
 "metadata": {
  "kernelspec": {
   "display_name": "Python 3",
   "language": "python",
   "name": "python3"
  },
  "language_info": {
   "codemirror_mode": {
    "name": "ipython",
    "version": 3
   },
   "file_extension": ".py",
   "mimetype": "text/x-python",
   "name": "python",
   "nbconvert_exporter": "python",
   "pygments_lexer": "ipython3",
   "version": "3.12.6"
  }
 },
 "nbformat": 4,
 "nbformat_minor": 2
}
